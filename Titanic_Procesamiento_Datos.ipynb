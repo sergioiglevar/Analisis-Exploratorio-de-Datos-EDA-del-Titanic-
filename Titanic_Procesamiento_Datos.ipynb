{
 "cells": [
  {
   "cell_type": "markdown",
   "metadata": {},
   "source": [
    "<div align=\"center\">\n",
    "\n",
    "## Proyecto Modulo 1.- El **TITANIC** *Procesamiento de datos*\n",
    "\n",
    "<div>"
   ]
  },
  {
   "cell_type": "markdown",
   "metadata": {},
   "source": [
    "##### Importamos librerias necesarias"
   ]
  },
  {
   "cell_type": "code",
   "execution_count": 38,
   "metadata": {},
   "outputs": [],
   "source": [
    "from sklearn.preprocessing import OneHotEncoder, StandardScaler\n",
    "from sklearn.model_selection import train_test_split, cross_val_score\n",
    "from sklearn.neighbors import KNeighborsRegressor\n",
    "from sklearn.metrics import mean_squared_error\n",
    "from sklearn.impute import KNNImputer\n",
    "import matplotlib.pyplot as plt\n",
    "import numpy as np\n",
    "import pandas as pd\n",
    "import pandas as pd\n",
    "import matplotlib.pyplot as plt\n",
    "import matplotlib.image as mpimg\n",
    "import seaborn as sns\n",
    "from IPython.display import Image, display, HTML\n",
    "from sklearn.preprocessing import LabelEncoder\n",
    "import warnings \n",
    "warnings.filterwarnings('ignore')"
   ]
  },
  {
   "cell_type": "code",
   "execution_count": null,
   "metadata": {},
   "outputs": [],
   "source": [
    "# leemos csv\n",
    "pd.read_csv('')"
   ]
  },
  {
   "cell_type": "markdown",
   "metadata": {},
   "source": [
    "##### Creamos 2 df para tratar los datos nulos bajo dos posibilidades diferentes y analizaremos cual es la mas efectiva para trabajar sobre ellos."
   ]
  },
  {
   "cell_type": "code",
   "execution_count": 40,
   "metadata": {},
   "outputs": [],
   "source": [
    "df_media = pd.read_csv('')\n",
    "df_Knn = pd.read_csv('')"
   ]
  },
  {
   "cell_type": "markdown",
   "metadata": {},
   "source": [
    "##### Empezaremos a trabajar sobre 'df_media'"
   ]
  },
  {
   "cell_type": "code",
   "execution_count": null,
   "metadata": {},
   "outputs": [],
   "source": [
    "df_media.head()"
   ]
  },
  {
   "cell_type": "code",
   "execution_count": null,
   "metadata": {},
   "outputs": [],
   "source": [
    "df_media.columns"
   ]
  },
  {
   "cell_type": "code",
   "execution_count": 43,
   "metadata": {},
   "outputs": [],
   "source": [
    "# eliminamos posibles datos duplicados\n",
    "df_media.drop_duplicates(inplace=True)"
   ]
  },
  {
   "cell_type": "code",
   "execution_count": null,
   "metadata": {},
   "outputs": [],
   "source": [
    "# visualizamos las columnas con datos nulos\n",
    "df_media.isnull().sum() / df_media.shape[0]*100"
   ]
  },
  {
   "cell_type": "markdown",
   "metadata": {},
   "source": [
    "##### Preprocesamiento sobre la columna 'Age' contiene un 19.8% de valores nulos, en este caso vamos a completar con la media del resto del conjunto de datos."
   ]
  },
  {
   "cell_type": "code",
   "execution_count": null,
   "metadata": {},
   "outputs": [],
   "source": [
    "mean_age = df_media['Age'].mean()\n",
    "mean_age\n",
    "df_media['Age'].fillna(mean_age, inplace=True)\n",
    "print(df_media['Age'].isnull().sum)"
   ]
  },
  {
   "cell_type": "markdown",
   "metadata": {},
   "source": [
    "##### Visualizamos el gráfico de distribución de la edad después de rellenar los valores nulos con la media."
   ]
  },
  {
   "cell_type": "code",
   "execution_count": null,
   "metadata": {},
   "outputs": [],
   "source": [
    "plt.figure(figsize=(10, 6))\n",
    "\n",
    "# Gráfico de distribución de la edad después de rellenar valores nulos\n",
    "sns.histplot(df_media['Age'], kde=True, color='blue', label='Edad con valores nulos rellenados')\n",
    "\n",
    "# Añadir la línea de la media\n",
    "plt.axvline(mean_age, color='red', linestyle='--', label=f'Media: {mean_age:.2f} años')\n",
    "\n",
    "# Añadir leyenda y título\n",
    "plt.legend()\n",
    "plt.title('Distribución de Edad en el Dataset del Titanic')\n",
    "plt.xlabel('Edad')\n",
    "plt.ylabel('Frecuencia')"
   ]
  },
  {
   "cell_type": "markdown",
   "metadata": {},
   "source": [
    "## Relleno de Valores Nulos\n",
    "\n",
    "### Método Aplicado\n",
    "Rellenamos los valores nulos de la columna `Age` con la media de 29.70 años.\n",
    "\n",
    "### Resultado\n",
    "Generamos una visualización usando `sns.histplot` para mostrar la distribución de las edades después de esta imputación.\n",
    "\n",
    "### Observaciones\n",
    "Rellenar los datos nulos con la media resultó en una sobresaturación de la edad media (29.70 años), lo que no es representativo de una población diversa. Este método es sencillo pero no captura la variabilidad de los datos reales.\n",
    "\n",
    "### Propuesta de Mejora\n",
    "Para obtener estimaciones más precisas de las edades faltantes, proponemos el desarrollo de un modelo K-Nearest Neighbors (KNN). Este enfoque utilizará las características disponibles en el conjunto de datos para predecir la edad de manera más cercana a los valores reales, manteniendo la integridad estadística y mejorando la precisión del análisis.\n",
    "\n",
    "## Próximos Pasos\n",
    "1. **Desarrollo del Modelo KNN:** Entrenar y validar el modelo utilizando datos completos.\n",
    "2. **Evaluación de Resultados:** Comparar la precisión del modelo KNN frente al método de imputación por media.\n",
    "3. **Implementación:** Aplicar el modelo KNN al conjunto de datos y analizar los resultados.\n",
    "   "
   ]
  },
  {
   "cell_type": "code",
   "execution_count": null,
   "metadata": {},
   "outputs": [],
   "source": [
    "df_Knn.head()"
   ]
  },
  {
   "cell_type": "code",
   "execution_count": 48,
   "metadata": {},
   "outputs": [],
   "source": [
    "# eliminamos duplicados \n",
    "df_Knn.drop_duplicates(inplace=True)"
   ]
  },
  {
   "cell_type": "code",
   "execution_count": null,
   "metadata": {},
   "outputs": [],
   "source": [
    "df_Knn.isnull().sum() "
   ]
  },
  {
   "cell_type": "code",
   "execution_count": 50,
   "metadata": {},
   "outputs": [],
   "source": [
    "# Vamos a normalizar Fare para asegurarnos que no tenga un impacto desproporcionado en la distancia \n",
    "scaler = StandardScaler()\n",
    "df_Knn['Fare'] = scaler.fit_transform(df_Knn[['Fare']])"
   ]
  },
  {
   "cell_type": "code",
   "execution_count": 51,
   "metadata": {},
   "outputs": [],
   "source": [
    "# estas son las columnas que elegimos como predictores de nuestro modelo.\n",
    "\n",
    "columnas=['Survived', 'Pclass', 'SibSp', 'Parch', 'Fare', 'Embarked',\"Age\"] #la edad tiene que tenerse en cuenta al predecir, los apellidos es una variable muy random y ruidosa para introducirse\n",
    "\n",
    "# Aplicamos OneHotEncoder para codificar nuestras variables categóricas \n",
    "encoder = OneHotEncoder(drop='first', sparse_output=False)\n",
    "df_encoded = pd.DataFrame(encoder.fit_transform(df_Knn[columnas]))\n",
    "df_encoded.columns = encoder.get_feature_names_out(columnas)"
   ]
  },
  {
   "cell_type": "code",
   "execution_count": 52,
   "metadata": {},
   "outputs": [],
   "source": [
    "# Creamos dos dataframes basados en la presencia de Age\n",
    "df_encoded['Age'] = df_Knn['Age']\n",
    "df_with_age = df_encoded.dropna(subset=['Age'])\n",
    "df_without_age = df_encoded[df_encoded['Age'].isna()].drop(columns='Age')"
   ]
  },
  {
   "cell_type": "code",
   "execution_count": 53,
   "metadata": {},
   "outputs": [],
   "source": [
    "# Dividimos el conjunto de datos en un conjunto de entrenamiento y un conjunto de prueba\n",
    "X_train, X_test, y_train, y_test = train_test_split(df_with_age.drop(columns='Age'), df_with_age['Age'], test_size=0.2, random_state=357)"
   ]
  },
  {
   "cell_type": "code",
   "execution_count": null,
   "metadata": {},
   "outputs": [],
   "source": [
    "# Lista para almacenar los valores de MSE (Error Cuadrático Medio)\n",
    "mse = []\n",
    "\n",
    "# Rango de k para probar\n",
    "k_range = range(1, 7)\n",
    "\n",
    "for k in k_range:\n",
    "    knn = KNeighborsRegressor(n_neighbors=k)\n",
    "    \n",
    "    # Realizamos la validación cruzada para obtener una medida más robusta del error\n",
    "    \"\"\"  estamos tomando el negativo de los valores devueltos para obtener el MSE real. \n",
    "         Luego, añadimos la media de estos valores a nuestra lista de MSE para cada valor de k (mse.append(scores.mean())).\n",
    "    \"\"\"\n",
    "    scores = -cross_val_score(knn, X_train, y_train, cv=5, scoring='neg_mean_squared_error')\n",
    "    mse.append(scores.mean())\n",
    "    print(f'scores = {scores}')\n",
    "    \n",
    " \n",
    "# Graficamos los valores \n",
    "plt.plot(k_range, mse)\n",
    "plt.xlabel('k')\n",
    "plt.ylabel('MSE')\n",
    "plt.title('Regla del codo para determinar el valor óptimo de k')\n",
    "plt.show()\n"
   ]
  },
  {
   "cell_type": "code",
   "execution_count": null,
   "metadata": {},
   "outputs": [],
   "source": [
    "# Determinar el mejor valor de k\n",
    "best_k = k_range[mse.index(min(mse))]\n",
    "print(f'Mejor número K: {best_k}')"
   ]
  },
  {
   "cell_type": "code",
   "execution_count": 56,
   "metadata": {},
   "outputs": [],
   "source": [
    "# Creamos el modelo KNN con el mejor valor de k\n",
    "knn = KNeighborsRegressor(n_neighbors=best_k)\n",
    "\n",
    "# Ajustamos el modelo a los datos sin valores nulos\n",
    "knn.fit(X_train, y_train)\n",
    "\n",
    "# Imputamos los valores faltantes en la columna 'Age'\n",
    "imputed_ages = knn.predict(df_without_age)\n",
    "df_Knn.loc[df_Knn['Age'].isna(), 'Age'] = imputed_ages"
   ]
  },
  {
   "cell_type": "code",
   "execution_count": null,
   "metadata": {},
   "outputs": [],
   "source": [
    "plt.figure(figsize=(10, 6))\n",
    "\n",
    "# Gráfico de distribución de la edad después de rellenar valores nulos\n",
    "sns.histplot(df_Knn['Age'], kde=True, color='blue', label='Edad con valores nulos rellenados')\n",
    "\n",
    "# Añadir la línea de la media\n",
    "plt.axvline(mean_age, color='red', linestyle='--', label=f'Media: {mean_age:.2f} años')\n",
    "\n",
    "# Añadir leyenda y títulos\n",
    "plt.legend()\n",
    "plt.title('Distribución de Edad en el Dataset del Titanic')\n",
    "plt.xlabel('Edad')\n",
    "plt.ylabel('Frecuencia')"
   ]
  },
  {
   "cell_type": "markdown",
   "metadata": {},
   "source": [
    "#### **Conclusión**\n",
    "\n",
    "##### A través de la implementación del modelo KNN, esperamos mejorar significativamente la precisión de nuestras imputaciones de edad, reflejando mejor la diversidad demográfica del Titanic. Este cambio no solo mejora la calidad del análisis, sino que también proporciona una base más sólida para futuros estudios y modelos predictivos."
   ]
  },
  {
   "cell_type": "code",
   "execution_count": null,
   "metadata": {},
   "outputs": [],
   "source": [
    "\n",
    "\n",
    "# Cargar las imágenes\n",
    "img1 = mpimg.imread('')\n",
    "img2 = mpimg.imread('')\n",
    "\n",
    "# Crear una figura y ejes\n",
    "fig, axs = plt.subplots(1, 2, figsize=(12, 6))\n",
    "\n",
    "# Mostrar la primera imagen\n",
    "axs[0].imshow(img1)\n",
    "axs[0].axis('off')\n",
    "axs[0].set_title('KNN')\n",
    "\n",
    "# Mostrar la segunda imagen\n",
    "axs[1].imshow(img2)\n",
    "axs[1].axis('off')\n",
    "axs[1].set_title('Media')\n",
    "\n",
    "# Mostrar el gráfico\n",
    "plt.show()\n"
   ]
  },
  {
   "cell_type": "markdown",
   "metadata": {},
   "source": [
    "##### Reparación de valores nulos de la columna 'Embarked' a través de la implementación de modelo KNN."
   ]
  },
  {
   "cell_type": "code",
   "execution_count": null,
   "metadata": {},
   "outputs": [],
   "source": [
    "\n",
    "# Seleccionar las columnas relevantes\n",
    "columns = ['Embarked', 'Pclass', 'Age', 'Fare']\n",
    "df_selected = df_Knn[columns]\n",
    "\n",
    "# Convertir los valores categóricos a numéricos\n",
    "df_selected['Embarked'] = df_selected['Embarked'].map({'C': 0, 'Q': 1, 'S': 2})\n",
    "\n",
    "# Crear el imputador KNN\n",
    "imputer = KNNImputer(n_neighbors=5)\n",
    "\n",
    "# Imputar los valores nulos\n",
    "df_selected = pd.DataFrame(imputer.fit_transform(df_selected), columns=columns)\n",
    "\n",
    "# Convertir los valores numéricos de 'Embarked' de vuelta a categóricos\n",
    "df_selected['Embarked'] = df_selected['Embarked'].round().map({0: 'C', 1: 'Q', 2: 'S'})\n",
    "\n",
    "# Reemplazar la columna original en el DataFrame\n",
    "df_Knn['Embarked'] = df_selected['Embarked']\n",
    "\n",
    "# Verificar los cambios\n",
    "print(df_Knn['Embarked'].isnull().sum())\n"
   ]
  },
  {
   "cell_type": "code",
   "execution_count": null,
   "metadata": {},
   "outputs": [],
   "source": [
    "plt.figure(figsize=(10, 6))\n",
    "\n",
    "# Gráfico de distribución de la edad después de rellenar valores nulos\n",
    "sns.histplot(df_Knn['Embarked'], kde=True, color='blue', label='Embarked valores nulos rellenados')\n",
    "\n",
    "\n",
    "\n",
    "# Añadir leyenda y títulos\n",
    "plt.legend()\n",
    "plt.title('Distribución de Embarked en el Dataset del Titanic')\n",
    "plt.xlabel('Embarked')\n",
    "plt.ylabel('Frecuencia')"
   ]
  },
  {
   "cell_type": "code",
   "execution_count": null,
   "metadata": {},
   "outputs": [],
   "source": [
    "df_Knn.isnull().sum() / df_media.shape[0]*100"
   ]
  },
  {
   "cell_type": "markdown",
   "metadata": {},
   "source": [
    "##### Desechamos la columna Cabin ya que tiene un 70% de datos nulos y carece de sentido repararla"
   ]
  },
  {
   "cell_type": "code",
   "execution_count": 62,
   "metadata": {},
   "outputs": [],
   "source": [
    "df_Knn.drop(columns=['Cabin'], inplace=True)"
   ]
  },
  {
   "cell_type": "code",
   "execution_count": null,
   "metadata": {},
   "outputs": [],
   "source": [
    "df_Knn.columns"
   ]
  },
  {
   "cell_type": "markdown",
   "metadata": {},
   "source": [
    "##### Desechamos tambien la columna 'PassengerId'"
   ]
  },
  {
   "cell_type": "code",
   "execution_count": 64,
   "metadata": {},
   "outputs": [],
   "source": [
    "df_Knn.drop(columns=['PassengerId'], inplace=True)"
   ]
  },
  {
   "cell_type": "code",
   "execution_count": null,
   "metadata": {},
   "outputs": [],
   "source": [
    "df_Knn.columns"
   ]
  },
  {
   "cell_type": "markdown",
   "metadata": {},
   "source": [
    "##### Vamos a crear una columna nueva con el nombre 'LastName' en la que sacaremos el apellido de los viajeros."
   ]
  },
  {
   "cell_type": "code",
   "execution_count": 66,
   "metadata": {},
   "outputs": [],
   "source": [
    "df_Knn['LastName'] = df_Knn['Name'].apply(lambda x: x.split(',')[0])"
   ]
  },
  {
   "cell_type": "code",
   "execution_count": null,
   "metadata": {},
   "outputs": [],
   "source": [
    "df_Knn.head()"
   ]
  },
  {
   "cell_type": "markdown",
   "metadata": {},
   "source": [
    "##### Normalizamos la columna 'Ticket'."
   ]
  },
  {
   "cell_type": "code",
   "execution_count": null,
   "metadata": {},
   "outputs": [],
   "source": [
    "label_encoder = LabelEncoder()\n",
    "\n",
    "# Codificar la columna 'Ticket'\n",
    "df_Knn['Ticket'] = label_encoder.fit_transform(df_Knn['Ticket'])\n",
    "df_Knn.head()"
   ]
  },
  {
   "cell_type": "markdown",
   "metadata": {},
   "source": [
    "##### Cambiamos la columna 'Survived' a booleano"
   ]
  },
  {
   "cell_type": "code",
   "execution_count": null,
   "metadata": {},
   "outputs": [],
   "source": [
    "# Cambiar la columna 'Survived' a booleana\n",
    "df_Knn['Survived'] = df_Knn['Survived'].astype(bool)\n",
    "df_Knn.head()"
   ]
  },
  {
   "cell_type": "markdown",
   "metadata": {},
   "source": [
    "##### Reparamos la columna AGE para verla solo con dos cifras"
   ]
  },
  {
   "cell_type": "code",
   "execution_count": null,
   "metadata": {},
   "outputs": [],
   "source": [
    "# Mantener solo las dos primeras cifras de la columna 'Age'\n",
    "def truncate_age(age):\n",
    "    if pd.notnull(age):\n",
    "        age_str = str(age).split('.')[0]  # Quitar la parte decimal si existe\n",
    "        return int(age_str[:2])\n",
    "    return age\n",
    "\n",
    "df_Knn['Age'] = df_Knn['Age'].apply(truncate_age)\n",
    "df_Knn.head()\n"
   ]
  },
  {
   "cell_type": "markdown",
   "metadata": {},
   "source": [
    "##### Guardar el DataFrame df_Knn como un archivo CSV con el que trabajaremos en el EDA."
   ]
  },
  {
   "cell_type": "code",
   "execution_count": null,
   "metadata": {},
   "outputs": [],
   "source": [
    "df_Knn.to_csv('', index=False)\n"
   ]
  },
  {
   "cell_type": "markdown",
   "metadata": {},
   "source": [
    "## Procesamiento de Datos para el Proyecto Titanic 🚢\n",
    "\n",
    "### Relleno de Valores Nulos\n",
    "**Método Aplicado**: Rellenamos los valores nulos de la columna `Age` con la media de 29.70 años.\n",
    "\n",
    "**Resultado**: Generamos una visualización utilizando `sns.histplot` para mostrar la distribución de las edades después de esta imputación.\n",
    "\n",
    "**Observaciones**: Rellenar los datos nulos con la media resultó en una sobresaturación de la edad media (29.70 años), lo que no es representativo de una población diversa. Este método es sencillo pero no captura la variabilidad de los datos reales.\n",
    "\n",
    "### Propuesta de Mejora\n",
    "Para obtener estimaciones más precisas de las edades faltantes, proponemos el desarrollo de un modelo K-Nearest Neighbors (KNN). Este enfoque utilizará las características disponibles en el conjunto de datos para predecir la edad de manera más cercana a los valores reales, manteniendo la integridad estadística y mejorando la precisión del análisis.\n",
    "\n",
    "### Implementación del Modelo KNN\n",
    "1. **Desarrollo del Modelo KNN**: Entrenar y validar el modelo utilizando datos completos.\n",
    "2. **Evaluación de Resultados**: Comparar la precisión del modelo KNN frente al método de imputación por media.\n",
    "3. **Implementación**: Aplicar el modelo KNN al conjunto de datos y analizar los resultados.\n",
    "\n",
    "### Otras reparaciones:\n",
    "1. Reducir a visualizar con solo  2 cifras\n",
    "2. Desechamos la columna 'Cabin' ya que contiene 70% de datos nulos\n",
    "3. Desechamos la columna 'PassengerId' ya que no nos aporta ningun valor al EDA.\n",
    "4. Creamos columna 'Last Name' para poder relacionar miembros de grupos familiares.\n",
    "5. Normailizamos la columna 'Ticket' ya que no hemos encotrado nada concluyente acorde a los prefijos de los tickets.\n",
    "\n",
    "---\n",
    "\n"
   ]
  }
 ],
 "metadata": {
  "kernelspec": {
   "display_name": "Python 3",
   "language": "python",
   "name": "python3"
  },
  "language_info": {
   "codemirror_mode": {
    "name": "ipython",
    "version": 3
   },
   "file_extension": ".py",
   "mimetype": "text/x-python",
   "name": "python",
   "nbconvert_exporter": "python",
   "pygments_lexer": "ipython3",
   "version": "3.10.11"
  }
 },
 "nbformat": 4,
 "nbformat_minor": 2
}
